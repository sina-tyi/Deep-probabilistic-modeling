{
 "cells": [
  {
   "attachments": {},
   "cell_type": "markdown",
   "metadata": {},
   "source": [
    "## Table of Contents\n",
    "\n",
    "* How PyroModule works\n",
    "\n",
    "* How to create a PyroModule\n",
    "\n",
    "* How effects work\n",
    "\n",
    "* How to constrain parameters\n",
    "\n",
    "* How to make a PyroModule Bayesian\n",
    "\n",
    "* Caution: accessing attributes inside plates\n",
    "\n",
    "* How to create a complex nested PyroModule\n",
    "\n",
    "* How naming works\n",
    "\n",
    "* Caution: avoiding duplicate names"
   ]
  },
  {
   "cell_type": "code",
   "execution_count": 2,
   "metadata": {},
   "outputs": [
    {
     "name": "stderr",
     "output_type": "stream",
     "text": [
      "/Users/sina/Library/Mobile Documents/com~apple~CloudDocs/Git_Projects/Deep-probabilistic-modeling/PyroVenv/lib/python3.10/site-packages/tqdm/auto.py:21: TqdmWarning: IProgress not found. Please update jupyter and ipywidgets. See https://ipywidgets.readthedocs.io/en/stable/user_install.html\n",
      "  from .autonotebook import tqdm as notebook_tqdm\n"
     ]
    }
   ],
   "source": [
    "import os\n",
    "import torch\n",
    "import torch.nn as nn\n",
    "import pyro\n",
    "import pyro.distributions as dist\n",
    "import pyro.poutine as poutine\n",
    "from torch.distributions import constraints\n",
    "from pyro.nn import PyroModule, PyroParam, PyroSample\n",
    "from pyro.nn.module import to_pyro_module_\n",
    "from pyro.infer import SVI, Trace_ELBO\n",
    "from pyro.infer.autoguide import AutoNormal\n",
    "from pyro.optim import Adam\n",
    "\n",
    "smoke_test = ('CI' in os.environ)\n",
    "assert pyro.__version__.startswith('1.8.4')"
   ]
  },
  {
   "attachments": {},
   "cell_type": "markdown",
   "metadata": {},
   "source": [
    "### How PyroModule works\n",
    "\n",
    "PyroModule aims to combine Pyro’s primitives and effect handlers with PyTorch’s nn.Module idiom, thereby enabling Bayesian treatment of existing nn.Modules and enabling model serving via jit.trace_module. Before you start using PyroModules it will help to understand how they work, so you can avoid pitfalls.\n",
    "\n",
    "PyroModule is a subclass of nn.Module. PyroModule enables Pyro effects by inserting effect handling logic on module attribute access, overriding the .__getattr__(), .__setattr__(), and .__delattr__() methods. Additionally, because some effects (like sampling) apply only once per model invocation, PyroModule overrides the .__call__() method to ensure samples are generated at most once per .__call__() invocation (note nn.Module subclasses typically implement a .forward() method that is called by .__call__()).\n",
    "\n",
    "### How to create a PyroModule\n",
    "\n",
    "There are three ways to create a PyroModule. Let’s start with a nn.Module that is not a PyroModule:"
   ]
  },
  {
   "cell_type": "code",
   "execution_count": 3,
   "metadata": {},
   "outputs": [],
   "source": [
    "class Linear(nn.Module):\n",
    "    def __init__(self, in_size, out_size):\n",
    "        super().__init__()\n",
    "        self.weight = nn.Parameter(torch.randn(in_size, out_size))\n",
    "        self.bias = nn.Parameter(torch.randn(out_size))\n",
    "\n",
    "    def forward(self, input_):\n",
    "        return self.bias + input_ @ self.weight\n",
    "    \n",
    "linear = Linear(5, 2)\n",
    "assert isinstance(linear, nn.Module)\n",
    "assert not isinstance(linear, PyroModule)\n",
    "\n",
    "example_input = torch.randn(100, 5)\n",
    "example_output = linear(example_input)\n",
    "assert example_output.shape == (100, 2)"
   ]
  },
  {
   "attachments": {},
   "cell_type": "markdown",
   "metadata": {},
   "source": [
    "\n",
    "The first way to create a PyroModule is to create a subclass of PyroModule. You can update any nn.Module you’ve written to be a PyroModule, e.g.\n",
    "\n",
    "\n",
    "```python\n",
    "- class Linear(nn.Module):\n",
    "+ class Linear(PyroModule):\n",
    "      def __init__(self, in_size, out_size):\n",
    "          super().__init__()\n",
    "          self.weight = ...\n",
    "          self.bias = ...\n",
    "      ...\n",
    "```\n",
    "Alternatively if you want to use third-party code like the Linear above you can subclass it, using PyroModule as a mixin class"
   ]
  },
  {
   "cell_type": "code",
   "execution_count": 4,
   "metadata": {},
   "outputs": [],
   "source": [
    "class PyroLinear(Linear, PyroModule):\n",
    "    pass\n",
    "\n",
    "linear = PyroLinear(5, 2)\n",
    "assert isinstance(linear, nn.Module)\n",
    "assert isinstance(linear, Linear)\n",
    "assert isinstance(linear, PyroModule)\n",
    "\n",
    "example_input = torch.randn(100, 5)\n",
    "example_output = linear(example_input)\n",
    "assert example_output.shape == (100, 2)"
   ]
  },
  {
   "attachments": {},
   "cell_type": "markdown",
   "metadata": {},
   "source": [
    "The second way to create a PyroModule is to use bracket syntax PyroModule[-] to automatically denote a trivial mixin class as above.\n",
    "\n",
    "```python\n",
    "- linear = Linear(5, 2)\n",
    "+ linear = PyroModule[Linear](5, 2)\n",
    "```\n",
    "in our case we can write"
   ]
  },
  {
   "cell_type": "code",
   "execution_count": 5,
   "metadata": {},
   "outputs": [],
   "source": [
    "linear = PyroModule[Linear](5, 2)\n",
    "assert isinstance(linear, nn.Module)\n",
    "assert isinstance(linear, Linear)\n",
    "assert isinstance(linear, PyroModule)\n",
    "\n",
    "example_input = torch.randn(100, 5)\n",
    "example_output = linear(example_input)\n",
    "assert example_output.shape == (100, 2)"
   ]
  },
  {
   "attachments": {},
   "cell_type": "markdown",
   "metadata": {},
   "source": [
    "The one difference between manual subclassing and using PyroModule[-] is that PyroModule[-] also ensures all nn.Module superclasses also become PyroModules, which is important for class hierarchies in library code. For example since nn.GRU is a subclass of nn.RNN, also PyroModule[nn.GRU] will be a subclass of PyroModule[nn.RNN].\n",
    "\n",
    "The third way to create a PyroModule is to change the type of an existing nn.Module instance in-place using to_pyro_module_(). This is useful if you’re using a third-party module factory helper or updating an existing script, e.g."
   ]
  },
  {
   "cell_type": "code",
   "execution_count": 6,
   "metadata": {},
   "outputs": [],
   "source": [
    "linear = Linear(5, 2)\n",
    "assert isinstance(linear, nn.Module)\n",
    "assert not isinstance(linear, PyroModule)\n",
    "\n",
    "to_pyro_module_(linear)  # this operates in-place\n",
    "assert isinstance(linear, nn.Module)\n",
    "assert isinstance(linear, Linear)\n",
    "assert isinstance(linear, PyroModule)\n",
    "\n",
    "example_input = torch.randn(100, 5)\n",
    "example_output = linear(example_input)\n",
    "assert example_output.shape == (100, 2)"
   ]
  },
  {
   "attachments": {},
   "cell_type": "markdown",
   "metadata": {},
   "source": [
    "### How effects work\n",
    "\n",
    "So far we’ve created PyroModules but haven’t made use of Pyro effects. But already the nn.Parameter attributes of our PyroModules act like pyro.param statements: they synchronize with Pyro’s param store, and they can be recorded in traces."
   ]
  },
  {
   "cell_type": "code",
   "execution_count": 8,
   "metadata": {},
   "outputs": [
    {
     "name": "stdout",
     "output_type": "stream",
     "text": [
      "Linear\n",
      "[]\n",
      "[]\n",
      "PyroLinear\n",
      "['bias', 'weight']\n",
      "['bias', 'weight']\n"
     ]
    }
   ],
   "source": [
    "pyro.clear_param_store()\n",
    "\n",
    "# This is not traced:\n",
    "linear = Linear(5, 2)\n",
    "with poutine.trace() as tr:\n",
    "    linear(example_input)\n",
    "print(type(linear).__name__)\n",
    "print(list(tr.trace.nodes.keys()))\n",
    "print(list(pyro.get_param_store().keys()))\n",
    "\n",
    "# Now this is traced:\n",
    "to_pyro_module_(linear)\n",
    "with poutine.trace() as tr:\n",
    "    linear(example_input)\n",
    "print(type(linear).__name__)\n",
    "print(list(tr.trace.nodes.keys()))\n",
    "print(list(pyro.get_param_store().keys()))"
   ]
  },
  {
   "attachments": {},
   "cell_type": "markdown",
   "metadata": {},
   "source": [
    "### How to constrain parameters\n",
    "Pyro parameters allow constraints, and often we want our nn.Module parameters to obey constraints. You can constrain a PyroModule’s parameters by replacing nn.Parameter with a PyroParam attribute. For example to ensure the .bias attribute is positive, we can set it to"
   ]
  },
  {
   "cell_type": "code",
   "execution_count": 9,
   "metadata": {},
   "outputs": [
    {
     "name": "stdout",
     "output_type": "stream",
     "text": [
      "params before: ['weight', 'bias']\n",
      "params after: ['weight', 'bias_unconstrained']\n",
      "bias: tensor([0.6404, 5.2888], grad_fn=<AddBackward0>)\n"
     ]
    }
   ],
   "source": [
    "print(\"params before:\", [name for name, _ in linear.named_parameters()])\n",
    "\n",
    "linear.bias = PyroParam(torch.randn(2).exp(), constraint=constraints.positive)\n",
    "print(\"params after:\", [name for name, _ in linear.named_parameters()])\n",
    "print(\"bias:\", linear.bias)\n",
    "\n",
    "example_input = torch.randn(100, 5)\n",
    "example_output = linear(example_input)\n",
    "assert example_output.shape == (100, 2)"
   ]
  },
  {
   "attachments": {},
   "cell_type": "markdown",
   "metadata": {},
   "source": [
    "Now PyTorch will optimize the .bias_unconstrained parameter, and each time we access the .bias attribute it will read and transform the .bias_unconstrained parameter (similar to a Python @property).\n",
    "\n",
    "If you know the constraint beforehand, you can build it into the module constructor, e.g.\n",
    "\n",
    "```python\n",
    "  class Linear(PyroModule):\n",
    "      def __init__(self, in_size, out_size):\n",
    "          super().__init__()\n",
    "          self.weight = ...\n",
    "-         self.bias = nn.Parameter(torch.randn(out_size))\n",
    "+         self.bias = PyroParam(torch.randn(out_size).exp(),\n",
    "+                               constraint=constraints.positive)\n",
    "      ...\n",
    "\n",
    "```"
   ]
  },
  {
   "attachments": {},
   "cell_type": "markdown",
   "metadata": {},
   "source": [
    "### How to make a PyroModule Bayesian\n",
    "So far our Linear module is still deterministic. To make it randomized and Bayesian, we’ll replace nn.Parameter and PyroParam attributes with PyroSample attributes, specifying a prior. Let’s put a simple prior over the weights, taking care to expand its shape to [5,2] and declare event dimensions with .to_event() (as explained in the tensor shapes tutorial)."
   ]
  },
  {
   "cell_type": "code",
   "execution_count": 10,
   "metadata": {},
   "outputs": [
    {
     "name": "stdout",
     "output_type": "stream",
     "text": [
      "params before: ['weight', 'bias_unconstrained']\n",
      "params after: ['bias_unconstrained']\n",
      "weight: tensor([[ 1.0344,  1.7259],\n",
      "        [-0.9617, -0.0387],\n",
      "        [ 1.3176,  0.3925],\n",
      "        [ 1.2339,  1.1451],\n",
      "        [-0.8739,  0.0127]])\n",
      "weight: tensor([[-0.8188, -0.7677],\n",
      "        [ 0.0810, -1.2442],\n",
      "        [ 0.4361,  0.5980],\n",
      "        [-0.5942,  0.2333],\n",
      "        [ 0.4862, -0.2085]])\n"
     ]
    }
   ],
   "source": [
    "print(\"params before:\", [name for name, _ in linear.named_parameters()])\n",
    "\n",
    "linear.weight = PyroSample(dist.Normal(0, 1).expand([5, 2]).to_event(2))\n",
    "print(\"params after:\", [name for name, _ in linear.named_parameters()])\n",
    "print(\"weight:\", linear.weight)\n",
    "print(\"weight:\", linear.weight)\n",
    "\n",
    "example_input = torch.randn(100, 5)\n",
    "example_output = linear(example_input)\n",
    "assert example_output.shape == (100, 2)"
   ]
  },
  {
   "attachments": {},
   "cell_type": "markdown",
   "metadata": {},
   "source": [
    "* Notice that the .weight parameter now disappears, and each time we call linear() a new weight is sampled from the prior. In fact, the weight is sampled when the Linear.forward() accesses the .weight attribute: this attribute now has the special behavior of sampling from the prior.\n",
    "\n",
    "We can see all the Pyro effects that appear in the trace:"
   ]
  },
  {
   "cell_type": "code",
   "execution_count": 13,
   "metadata": {},
   "outputs": [
    {
     "name": "stdout",
     "output_type": "stream",
     "text": [
      "param bias tensor([0.6404, 5.2888], grad_fn=<AddBackward0>)\n",
      "sample weight tensor([[ 1.8861, -1.9781],\n",
      "        [ 1.6661,  1.0092],\n",
      "        [-0.6315,  0.1163],\n",
      "        [ 0.6082,  1.3411],\n",
      "        [ 0.0353, -1.5681]])\n"
     ]
    }
   ],
   "source": [
    "with poutine.trace() as tr:\n",
    "    linear(example_input)\n",
    "for site in tr.trace.nodes.values():\n",
    "    print(site[\"type\"], site[\"name\"], site[\"value\"])"
   ]
  },
  {
   "attachments": {},
   "cell_type": "markdown",
   "metadata": {},
   "source": [
    "So far we’ve modified a third-party module to be Bayesian\n",
    "\n",
    "```\n",
    "linear = Linear(...)\n",
    "to_pyro_module_(linear)\n",
    "linear.bias = PyroParam(...)\n",
    "linear.weight = PyroSample(...)\n",
    "```"
   ]
  },
  {
   "cell_type": "code",
   "execution_count": null,
   "metadata": {},
   "outputs": [],
   "source": []
  }
 ],
 "metadata": {
  "kernelspec": {
   "display_name": "PyroVenv",
   "language": "python",
   "name": "python3"
  },
  "language_info": {
   "codemirror_mode": {
    "name": "ipython",
    "version": 3
   },
   "file_extension": ".py",
   "mimetype": "text/x-python",
   "name": "python",
   "nbconvert_exporter": "python",
   "pygments_lexer": "ipython3",
   "version": "3.10.11"
  },
  "orig_nbformat": 4
 },
 "nbformat": 4,
 "nbformat_minor": 2
}
