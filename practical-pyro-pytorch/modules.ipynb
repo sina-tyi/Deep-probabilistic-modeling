{
 "cells": [
  {
   "attachments": {},
   "cell_type": "markdown",
   "metadata": {},
   "source": [
    "## Table of Contents\n",
    "\n",
    "* How PyroModule works\n",
    "\n",
    "* How to create a PyroModule\n",
    "\n",
    "* How effects work\n",
    "\n",
    "* How to constrain parameters\n",
    "\n",
    "* How to make a PyroModule Bayesian\n",
    "\n",
    "* Caution: accessing attributes inside plates\n",
    "\n",
    "* How to create a complex nested PyroModule\n",
    "\n",
    "* How naming works\n",
    "\n",
    "* Caution: avoiding duplicate names"
   ]
  },
  {
   "cell_type": "code",
   "execution_count": 1,
   "metadata": {},
   "outputs": [
    {
     "name": "stderr",
     "output_type": "stream",
     "text": [
      "/Users/sina/Library/Mobile Documents/com~apple~CloudDocs/Git_Projects/Deep-probabilistic-modeling/PyroVenv/lib/python3.10/site-packages/tqdm/auto.py:21: TqdmWarning: IProgress not found. Please update jupyter and ipywidgets. See https://ipywidgets.readthedocs.io/en/stable/user_install.html\n",
      "  from .autonotebook import tqdm as notebook_tqdm\n"
     ]
    }
   ],
   "source": [
    "import os\n",
    "import torch\n",
    "import torch.nn as nn\n",
    "import pyro\n",
    "import pyro.distributions as dist\n",
    "import pyro.poutine as poutine\n",
    "from torch.distributions import constraints\n",
    "from pyro.nn import PyroModule, PyroParam, PyroSample\n",
    "from pyro.nn.module import to_pyro_module_\n",
    "from pyro.infer import SVI, Trace_ELBO\n",
    "from pyro.infer.autoguide import AutoNormal\n",
    "from pyro.optim import Adam\n",
    "\n",
    "smoke_test = ('CI' in os.environ)\n",
    "assert pyro.__version__.startswith('1.8.4')"
   ]
  },
  {
   "attachments": {},
   "cell_type": "markdown",
   "metadata": {},
   "source": [
    "### How PyroModule works\n",
    "\n",
    "PyroModule aims to combine Pyro’s primitives and effect handlers with PyTorch’s nn.Module idiom, thereby enabling Bayesian treatment of existing nn.Modules and enabling model serving via jit.trace_module. Before you start using PyroModules it will help to understand how they work, so you can avoid pitfalls.\n",
    "\n",
    "PyroModule is a subclass of nn.Module. PyroModule enables Pyro effects by inserting effect handling logic on module attribute access, overriding the .__getattr__(), .__setattr__(), and .__delattr__() methods. Additionally, because some effects (like sampling) apply only once per model invocation, PyroModule overrides the .__call__() method to ensure samples are generated at most once per .__call__() invocation (note nn.Module subclasses typically implement a .forward() method that is called by .__call__()).\n",
    "\n",
    "### How to create a PyroModule\n",
    "\n",
    "There are three ways to create a PyroModule. Let’s start with a nn.Module that is not a PyroModule:"
   ]
  },
  {
   "cell_type": "code",
   "execution_count": 5,
   "metadata": {},
   "outputs": [],
   "source": [
    "class Linear(nn.Module):\n",
    "    def __init__(self, in_size, out_size):\n",
    "        super().__init__()\n",
    "        self.weight = nn.Parameter(torch.randn(in_size, out_size))\n",
    "        self.bias = nn.Parameter(torch.randn(out_size))\n",
    "\n",
    "    def forward(self, input_):\n",
    "        return self.bias + input_ @ self.weight\n",
    "    \n",
    "linear = Linear(5, 2)\n",
    "assert isinstance(linear, nn.Module)\n",
    "assert not isinstance(linear, PyroModule)\n",
    "\n",
    "example_input = torch.randn(100, 5)\n",
    "example_output = linear(example_input)\n",
    "assert example_output.shape == (100, 2)"
   ]
  },
  {
   "attachments": {},
   "cell_type": "markdown",
   "metadata": {},
   "source": [
    "\n",
    "The first way to create a PyroModule is to create a subclass of PyroModule. You can update any nn.Module you’ve written to be a PyroModule, e.g.\n",
    "\n",
    "\n",
    "```python\n",
    "- class Linear(nn.Module):\n",
    "+ class Linear(PyroModule):\n",
    "      def __init__(self, in_size, out_size):\n",
    "          super().__init__()\n",
    "          self.weight = ...\n",
    "          self.bias = ...\n",
    "      ...\n",
    "```\n",
    "Alternatively if you want to use third-party code like the Linear above you can subclass it, using PyroModule as a mixin class"
   ]
  },
  {
   "cell_type": "code",
   "execution_count": 6,
   "metadata": {},
   "outputs": [],
   "source": [
    "class PyroLinear(Linear, PyroModule):\n",
    "    pass\n",
    "\n",
    "linear = PyroLinear(5, 2)\n",
    "assert isinstance(linear, nn.Module)\n",
    "assert isinstance(linear, Linear)\n",
    "assert isinstance(linear, PyroModule)\n",
    "\n",
    "example_input = torch.randn(100, 5)\n",
    "example_output = linear(example_input)\n",
    "assert example_output.shape == (100, 2)"
   ]
  },
  {
   "attachments": {},
   "cell_type": "markdown",
   "metadata": {},
   "source": [
    "The second way to create a PyroModule is to use bracket syntax PyroModule[-] to automatically denote a trivial mixin class as above.\n",
    "\n",
    "```python\n",
    "- linear = Linear(5, 2)\n",
    "+ linear = PyroModule[Linear](5, 2)\n",
    "```\n",
    "in our case we can write"
   ]
  },
  {
   "cell_type": "code",
   "execution_count": 7,
   "metadata": {},
   "outputs": [],
   "source": [
    "linear = PyroModule[Linear](5, 2)\n",
    "assert isinstance(linear, nn.Module)\n",
    "assert isinstance(linear, Linear)\n",
    "assert isinstance(linear, PyroModule)\n",
    "\n",
    "example_input = torch.randn(100, 5)\n",
    "example_output = linear(example_input)\n",
    "assert example_output.shape == (100, 2)"
   ]
  },
  {
   "attachments": {},
   "cell_type": "markdown",
   "metadata": {},
   "source": [
    "The one difference between manual subclassing and using PyroModule[-] is that PyroModule[-] also ensures all nn.Module superclasses also become PyroModules, which is important for class hierarchies in library code. For example since nn.GRU is a subclass of nn.RNN, also PyroModule[nn.GRU] will be a subclass of PyroModule[nn.RNN].\n",
    "\n",
    "The third way to create a PyroModule is to change the type of an existing nn.Module instance in-place using to_pyro_module_(). This is useful if you’re using a third-party module factory helper or updating an existing script, e.g."
   ]
  },
  {
   "cell_type": "code",
   "execution_count": 8,
   "metadata": {},
   "outputs": [],
   "source": [
    "linear = Linear(5, 2)\n",
    "assert isinstance(linear, nn.Module)\n",
    "assert not isinstance(linear, PyroModule)\n",
    "\n",
    "to_pyro_module_(linear)  # this operates in-place\n",
    "assert isinstance(linear, nn.Module)\n",
    "assert isinstance(linear, Linear)\n",
    "assert isinstance(linear, PyroModule)\n",
    "\n",
    "example_input = torch.randn(100, 5)\n",
    "example_output = linear(example_input)\n",
    "assert example_output.shape == (100, 2)"
   ]
  },
  {
   "cell_type": "code",
   "execution_count": null,
   "metadata": {},
   "outputs": [],
   "source": []
  }
 ],
 "metadata": {
  "kernelspec": {
   "display_name": "PyroVenv",
   "language": "python",
   "name": "python3"
  },
  "language_info": {
   "codemirror_mode": {
    "name": "ipython",
    "version": 3
   },
   "file_extension": ".py",
   "mimetype": "text/x-python",
   "name": "python",
   "nbconvert_exporter": "python",
   "pygments_lexer": "ipython3",
   "version": "3.10.11"
  },
  "orig_nbformat": 4
 },
 "nbformat": 4,
 "nbformat_minor": 2
}
